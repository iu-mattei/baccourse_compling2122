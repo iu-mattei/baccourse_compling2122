{
 "cells": [
  {
   "cell_type": "markdown",
   "id": "ff3e2e7c",
   "metadata": {},
   "source": [
    "### 2.1"
   ]
  },
  {
   "cell_type": "code",
   "execution_count": 10,
   "id": "c24388a4",
   "metadata": {},
   "outputs": [
    {
     "data": {
      "text/plain": [
       "True"
      ]
     },
     "execution_count": 10,
     "metadata": {},
     "output_type": "execute_result"
    }
   ],
   "source": [
    "isinstance(bool == bool, bool)"
   ]
  },
  {
   "cell_type": "markdown",
   "id": "58adff23",
   "metadata": {},
   "source": [
    "Вывод True. Проверяет, логического ли типа значение выражения сравнения двух констант."
   ]
  },
  {
   "cell_type": "markdown",
   "id": "3cbcac45",
   "metadata": {},
   "source": [
    " ### 2.2"
   ]
  },
  {
   "cell_type": "code",
   "execution_count": 26,
   "id": "ec0cdf78",
   "metadata": {},
   "outputs": [],
   "source": [
    "a = 3 == 3"
   ]
  },
  {
   "cell_type": "code",
   "execution_count": 28,
   "id": "510efd06",
   "metadata": {},
   "outputs": [
    {
     "data": {
      "text/plain": [
       "True"
      ]
     },
     "execution_count": 28,
     "metadata": {},
     "output_type": "execute_result"
    }
   ],
   "source": [
    "a == True"
   ]
  },
  {
   "cell_type": "markdown",
   "id": "cb3198c8",
   "metadata": {},
   "source": [
    "Создает переменную a со значением True, операция сравнения выполняется перед операцией присваивания."
   ]
  },
  {
   "cell_type": "code",
   "execution_count": 29,
   "id": "f56cf104",
   "metadata": {},
   "outputs": [
    {
     "data": {
      "text/plain": [
       "False"
      ]
     },
     "execution_count": 29,
     "metadata": {},
     "output_type": "execute_result"
    }
   ],
   "source": [
    "a == 3 == 3"
   ]
  },
  {
   "cell_type": "code",
   "execution_count": 33,
   "id": "8760da6a",
   "metadata": {},
   "outputs": [
    {
     "data": {
      "text/plain": [
       "True"
      ]
     },
     "execution_count": 33,
     "metadata": {},
     "output_type": "execute_result"
    }
   ],
   "source": [
    "(a == 3) == (a == 3 == 3)"
   ]
  },
  {
   "cell_type": "markdown",
   "id": "5d821c04",
   "metadata": {},
   "source": [
    "(Если переменная новая, не из предыдущей строки, то ошибка, так как не определена переменная.) Вывод False. Дважды проверяет, тождественно ли значение а числовому значению 3. Это неверно, так как в предыдущей строке переменная a приняла логическое значение True."
   ]
  },
  {
   "cell_type": "markdown",
   "id": "f86af2ca",
   "metadata": {},
   "source": [
    "### 2.3"
   ]
  },
  {
   "cell_type": "code",
   "execution_count": 34,
   "id": "4eccc379",
   "metadata": {},
   "outputs": [
    {
     "name": "stdout",
     "output_type": "stream",
     "text": [
      "148\n"
     ]
    }
   ],
   "source": [
    "x = 37\n",
    "y = 4\n",
    "print(x * y)"
   ]
  },
  {
   "cell_type": "markdown",
   "id": "7c137d73",
   "metadata": {},
   "source": [
    "### 2.4"
   ]
  },
  {
   "cell_type": "code",
   "execution_count": 35,
   "id": "176534c5",
   "metadata": {},
   "outputs": [
    {
     "name": "stdout",
     "output_type": "stream",
     "text": [
      "transformational grammar\n"
     ]
    }
   ],
   "source": [
    "x = 'transformational'\n",
    "y = 'grammar'\n",
    "print(x + ' ' + y)"
   ]
  },
  {
   "cell_type": "markdown",
   "id": "7be6babf",
   "metadata": {},
   "source": [
    "### 2.5"
   ]
  },
  {
   "cell_type": "code",
   "execution_count": 39,
   "id": "997eba2d",
   "metadata": {},
   "outputs": [
    {
     "name": "stdout",
     "output_type": "stream",
     "text": [
      "no yes\n"
     ]
    }
   ],
   "source": [
    "yes = 'no'\n",
    "no = 'yes'\n",
    "print(yes, no)"
   ]
  },
  {
   "cell_type": "markdown",
   "id": "cef22e0b",
   "metadata": {},
   "source": [
    "Этим переменным присваиваются значения, совпадающие с названием другой переменной, это приведет к путанице в коде.\n",
    "Стоит поменять значения местами.\n",
    "А еще лучше дать *концептуальные* названия переменным, не совпадающие ни с каким возможным значением."
   ]
  },
  {
   "cell_type": "markdown",
   "id": "7aff6583",
   "metadata": {},
   "source": [
    "### 2.6"
   ]
  },
  {
   "cell_type": "code",
   "execution_count": 43,
   "id": "7801f26e",
   "metadata": {},
   "outputs": [
    {
     "data": {
      "text/plain": [
       "True"
      ]
     },
     "execution_count": 43,
     "metadata": {},
     "output_type": "execute_result"
    }
   ],
   "source": [
    "7 ** 3 > 15 * 16"
   ]
  },
  {
   "cell_type": "markdown",
   "id": "4ef6cfe9",
   "metadata": {},
   "source": [
    "7^3 = 343. 15 * 16 = 240. 343 > 240."
   ]
  },
  {
   "cell_type": "markdown",
   "id": "d8700cc0",
   "metadata": {},
   "source": [
    "### 2.7"
   ]
  },
  {
   "cell_type": "code",
   "execution_count": 45,
   "id": "aa8cd895",
   "metadata": {},
   "outputs": [
    {
     "name": "stdout",
     "output_type": "stream",
     "text": [
      "ABC\n",
      "abc\n"
     ]
    }
   ],
   "source": [
    "x = 'abc'\n",
    "x = x.upper()\n",
    "print(x)\n",
    "x = x.lower()\n",
    "print(x)"
   ]
  },
  {
   "cell_type": "markdown",
   "id": "887e1a48",
   "metadata": {},
   "source": [
    "Строка abc преобразована в строку ABC.\n",
    "Переменная x на всех шагах изменяема, mutable, можно проверить с помощью обратной операции."
   ]
  },
  {
   "cell_type": "markdown",
   "id": "d603eec5",
   "metadata": {},
   "source": [
    "### 2.8"
   ]
  },
  {
   "cell_type": "code",
   "execution_count": 48,
   "id": "c9746750",
   "metadata": {},
   "outputs": [
    {
     "name": "stdout",
     "output_type": "stream",
     "text": [
      "katab-a\n"
     ]
    }
   ],
   "source": [
    "x = '{}k{}t{}b{}'\n",
    "pstAct3sg = x.format('', 'a', 'a', '-a')\n",
    "print(pstAct3sg)"
   ]
  },
  {
   "cell_type": "code",
   "execution_count": 50,
   "id": "addd25ac",
   "metadata": {},
   "outputs": [
    {
     "name": "stdout",
     "output_type": "stream",
     "text": [
      "kutib-a\n"
     ]
    }
   ],
   "source": [
    "pstPass3sg = x.format('', 'u', 'i', '-a')\n",
    "print(pstPass3sg)"
   ]
  },
  {
   "cell_type": "code",
   "execution_count": 52,
   "id": "fdeeed53",
   "metadata": {},
   "outputs": [
    {
     "name": "stdout",
     "output_type": "stream",
     "text": [
      "uktub\n"
     ]
    }
   ],
   "source": [
    "imp2sg = x.format('u', '', 'u', '')\n",
    "print(imp2sg)"
   ]
  },
  {
   "cell_type": "markdown",
   "id": "b2f02cee",
   "metadata": {},
   "source": [
    "### 2.9"
   ]
  },
  {
   "cell_type": "markdown",
   "id": "368baca6",
   "metadata": {},
   "source": [
    "В чувашском языке есть сингармонизм по ряду: противопоставлены гласные фонемы переднего и заднего рядов.\n",
    "Если в корневой морфеме звук переднего ряда - i, y, e, ë, - то для деривационной морфемы, например, для суффикса множественного числа существительных *zem/zam* выбирается первый, переднерядный вариант *zem*,\n",
    "а для заднерядных корней - с гласными ɨ, u, a, ə, - второй, заднерядный *zam*."
   ]
  },
  {
   "cell_type": "markdown",
   "id": "e606dbbc",
   "metadata": {},
   "source": [
    "taga 'козёл', jɨdə 'собака', tëdëm 'дым'"
   ]
  },
  {
   "cell_type": "code",
   "execution_count": 87,
   "id": "a90ec318",
   "metadata": {},
   "outputs": [
    {
     "name": "stdout",
     "output_type": "stream",
     "text": [
      "tëdëm\n",
      "Nom Pl: tëdëmzem\n"
     ]
    }
   ],
   "source": [
    "x = '{noun}z{vowel}m'\n",
    "back = []\n",
    "front = []\n",
    "y = input()\n",
    "z = list(y)\n",
    "if (('ɨ' in z) == True) or (('u' in z) == True) or (('a' in z) == True) or (('ə' in z) == True):\n",
    "    back.append(y)\n",
    "elif (('i' in z) == True) or (('y' in z) == True) or (('e' in z) == True) or (('ë' in z) == True): \n",
    "    front.append(y)\n",
    "if (y in back) == True:        \n",
    "    print('Nom Pl:', x.format(noun = y, vowel = 'a'))\n",
    "elif (y in front) == True:\n",
    "    print('Nom Pl:', x.format(noun = y, vowel = 'e'))"
   ]
  },
  {
   "cell_type": "markdown",
   "id": "1a4fdf54",
   "metadata": {},
   "source": [
    "Другой пример - суффикс аблатива ren/ran. Форма аблатива единственного числа:"
   ]
  },
  {
   "cell_type": "code",
   "execution_count": 88,
   "id": "45c7f5c8",
   "metadata": {},
   "outputs": [
    {
     "name": "stdout",
     "output_type": "stream",
     "text": [
      "Abl Sg: tëdëmren\n"
     ]
    }
   ],
   "source": [
    "x = '{noun}r{vowel}n'\n",
    "if (y in back) == True:        \n",
    "    print('Abl Sg:', x.format(noun = y, vowel = 'a'))\n",
    "elif (y in front) == True:\n",
    "    print('Abl Sg:', x.format(noun = y, vowel = 'e'))"
   ]
  },
  {
   "cell_type": "markdown",
   "id": "082eb4e8",
   "metadata": {},
   "source": [
    "Форма аблатива множественного числа:"
   ]
  },
  {
   "cell_type": "code",
   "execution_count": 90,
   "id": "c1b86321",
   "metadata": {},
   "outputs": [
    {
     "name": "stdout",
     "output_type": "stream",
     "text": [
      "Abl Pl: tëdëmzemren\n"
     ]
    }
   ],
   "source": [
    "x = '{noun}z{vowel}mr{vowel}n'\n",
    "if (y in back) == True:        \n",
    "    print('Abl Pl:', x.format(noun = y, vowel = 'a'))\n",
    "elif (y in front) == True:\n",
    "    print('Abl Pl:', x.format(noun = y, vowel = 'e'))"
   ]
  },
  {
   "cell_type": "markdown",
   "id": "acb0b94d",
   "metadata": {},
   "source": [
    "### 2.10"
   ]
  },
  {
   "cell_type": "code",
   "execution_count": 178,
   "id": "efedc647",
   "metadata": {},
   "outputs": [],
   "source": [
    "dct = {'козел':'taga', 'собака':'jɨdə', 'дождь':'ɕomər', 'птица':'kajak', 'вчера':'ëner', 'завтра':'ɨran',\n",
    "       'лес':'vərman', 'рыба':'pola'}"
   ]
  },
  {
   "cell_type": "code",
   "execution_count": 179,
   "id": "b0b3d952",
   "metadata": {},
   "outputs": [
    {
     "data": {
      "text/plain": [
       "'forest = vərman, dog = jɨdə'"
      ]
     },
     "execution_count": 179,
     "metadata": {},
     "output_type": "execute_result"
    }
   ],
   "source": [
    "s = 'forest = {лес}, dog = {собака}'\n",
    "s.format(**dct)"
   ]
  },
  {
   "cell_type": "code",
   "execution_count": 181,
   "id": "71beae63",
   "metadata": {},
   "outputs": [
    {
     "name": "stdout",
     "output_type": "stream",
     "text": [
      "козел рыба\n",
      "taga pola \n"
     ]
    }
   ],
   "source": [
    "x = input()\n",
    "string = x.split()\n",
    "word = []\n",
    "output = ''\n",
    "for word in string:\n",
    "    output += dct[word] + ' '\n",
    "print(output)"
   ]
  },
  {
   "cell_type": "markdown",
   "id": "e58adab6",
   "metadata": {},
   "source": [
    "### 2.11"
   ]
  },
  {
   "cell_type": "code",
   "execution_count": 213,
   "id": "ccc28c80",
   "metadata": {},
   "outputs": [
    {
     "name": "stdout",
     "output_type": "stream",
     "text": [
      "[1, 2, 3] <class 'list'>\n",
      "[1, 2, 3, 4] <class 'list'>\n",
      "ab <class 'str'>\n"
     ]
    }
   ],
   "source": [
    "#Функции append и extend применимык спискам и не применима к строкам.\n",
    "\n",
    "x = [1, 2]\n",
    "y = [3]\n",
    "x.extend(y)\n",
    "print(x, type(x))\n",
    "x.append(4)\n",
    "print(x, type(x))\n",
    "a = 'a'\n",
    "b = 'b'\n",
    "print(a + b, type(a + b))"
   ]
  },
  {
   "cell_type": "code",
   "execution_count": 196,
   "id": "25cce932",
   "metadata": {},
   "outputs": [
    {
     "name": "stdout",
     "output_type": "stream",
     "text": [
      "[]\n"
     ]
    }
   ],
   "source": [
    "#Списки можно очищать с помощью функции, строки нет.\n",
    "\n",
    "b = ['abc']\n",
    "b.clear()\n",
    "print(b)\n",
    "a = 'abc'\n",
    "#a.clear()"
   ]
  },
  {
   "cell_type": "code",
   "execution_count": 204,
   "id": "14eb32ee",
   "metadata": {},
   "outputs": [
    {
     "name": "stdout",
     "output_type": "stream",
     "text": [
      "[1, 2, 3, 4, 9]\n"
     ]
    }
   ],
   "source": [
    "#Списки можно сортировать, в отличие от строк. Список может содержать несколько элементов, строка - всегда один.\n",
    "\n",
    "a = [9, 4, 2, 3, 1]\n",
    "a.sort()\n",
    "print(a)\n",
    "b = '9 4 2 3 1'\n",
    "#b.sort()"
   ]
  },
  {
   "cell_type": "markdown",
   "id": "6d7eb72a",
   "metadata": {},
   "source": [
    "### 2.12"
   ]
  },
  {
   "cell_type": "markdown",
   "id": "6fc87a66",
   "metadata": {},
   "source": [
    "Множества - это набор не повторяющихся элементов, который нельзя индексировать или срезать, \n",
    "можно расширить и уменьшить с помощью методов add и discard и remove.\n",
    "Последний вызывает ошибку при попытке удаления не существующего в множестве элемента.\n",
    "Можно объединять несколько множеств методом union. Находить пересечение оператором & или методом intersection."
   ]
  },
  {
   "cell_type": "code",
   "execution_count": null,
   "id": "66bbfe93",
   "metadata": {},
   "outputs": [],
   "source": []
  }
 ],
 "metadata": {
  "kernelspec": {
   "display_name": "Python 3",
   "language": "python",
   "name": "python3"
  },
  "language_info": {
   "codemirror_mode": {
    "name": "ipython",
    "version": 3
   },
   "file_extension": ".py",
   "mimetype": "text/x-python",
   "name": "python",
   "nbconvert_exporter": "python",
   "pygments_lexer": "ipython3",
   "version": "3.8.8"
  }
 },
 "nbformat": 4,
 "nbformat_minor": 5
}
