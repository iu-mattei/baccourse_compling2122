{
 "cells": [
  {
   "cell_type": "markdown",
   "metadata": {
    "id": "vDPWYnR0QeB_"
   },
   "source": [
    "**Задание 1.**"
   ]
  },
  {
   "cell_type": "markdown",
   "metadata": {
    "id": "nWJtiol8QeCB"
   },
   "source": [
    "1. Создайте небольшой датасет (3-4 текста) с помощью нашего \"примитивного\" веб-кролера (вспомните семинар 6). \n",
    "2. Выполните его предобработку (с помощью библиотеки BeautifulSoup - также семинар 6; удалите оставшийся мусор в тексте с помощью регулярных выражений - семинар 5).\n",
    "3. Итоговый датасет должен представлять собой список из четырех строковых элементов.\n",
    "4. Создайте дополнительный вариант, где токенизированы тексты и удалены стоп-слова, используя библиотеки spacy или nltk. Итогом должен быть список из таких текстов."
   ]
  },
  {
   "cell_type": "markdown",
   "metadata": {},
   "source": [
    "С помощью Текстометра трем учебным текстам присвоен уровень."
   ]
  },
  {
   "cell_type": "code",
   "execution_count": 168,
   "metadata": {
    "id": "BE4htBQ3RZ4c"
   },
   "outputs": [],
   "source": [
    "import urllib.request\n",
    "from bs4 import BeautifulSoup\n",
    "import re"
   ]
  },
  {
   "cell_type": "code",
   "execution_count": 169,
   "metadata": {},
   "outputs": [
    {
     "name": "stdout",
     "output_type": "stream",
     "text": [
      "['федя и надя брат и сестра внешне они похожи друг на друга но по характеру очень разные у ребят тёмные глаза прямые русые волосы и милая улыбка федя носит усы он высокий надя ниже чем её брат у неё длинные волосы и много веснушек в детстве их часто путали потому что надя любила надевать одежду феди девочке нравилось носить широкие шорты брюки и тёмные джинсы а родители покупали ей только розовые платья по характеру надя была весёлая шумная быстрая она любила много двигаться играть заниматься спортом но увлечения девочки менялись очень часто сначала она занималась гимнастикой потом плаванием позже увлекалась теннисом затем лёгкой атлетикой родители всегда говорили что у нади семь пятниц на неделе федя был спокойнее он любил читать думать решать задачи и увлекался наукой мальчик хорошо учился в школе он часто помогал наде с математикой химией и физикой зато надя любила литературу и русский язык хорошо знала правила и объясняла их брату после окончания школы ребята поступили в университет они выбрали себе подходящие профессии федя стал учёным он занимается проблемами экономики в свободное время молодой человек играет на гитаре иногда ездит с друзьями на рыбалку а надя журналист она очень изменилась стала ответственной внимательной и целеустремлённой без трудов нет плодов и надя очень много работает общается с разными людьми иногда ей приходится посещать по четыре модных мероприятия в день сразу после этого нужно успеть написать статьи чтобы на следующий день они были опубликованы в журнале федя и надя очень дружат на выходных приходят в гости к родителям чтобы вместе пообедать и пообщаться федя пока не женат и живёт один а надя уже вышла замуж её муж кирилл работает программистом он создаёт компьютерные игры скоро у кирилла и нади родится сын малыша назовут фёдором в честь его дяди надя верит что маленький федя будет умным красивым и весёлым мальчиком', 'погода это одна из самых популярных тем для разговора с погодой связано много шуток и сравнений ведь в беларуси она меняется очень резко перепады температуры бывают такими неожиданными что в народе появилась поговорка о предусмотрительности готовь телегу зимой а сани летом но в целом климат беларуси очень приятный а все времена года сильно отличаются друг от друга смена сезонов однако не всегда соответствует календарю например по календарю зима начинается в декабре но только в конце этого месяца наступают настоящие морозы когда идёт снег замерзает вода в озёрах и они покрываются льдом зима которая продолжается весь январь и февраль не всегда бывает холодной иногда наступают оттепели но затем снег выпадает снова температура держится ниже нуля даже в марте который по календарю считается первым месяцем весны настоящая весна наступает ближе к апрелю когда распускаются первые цветы начинает зеленеть трава и на деревьях появляются почки последний месяц весны называется май это самое красивое время года которое восхищает яркой и свежей зеленью цветущими деревьями приятной погодой в июне по календарю начинается лето но не очень жаркое и часто дождливое на большое количество дождей и туманов в беларуси влияет атлантика откуда к нам приходит влажный воздух зато июль и август это понастоящему жаркие месяцы когда температура воздуха достигает градусов в это время люди выезжают отдыхать за город где можно позагорать искупаться в реке или озере подышать свежим воздухом белорусы очень любят природу и относятся к ней бережно жара может длиться до самого сентября когда наступает бабье лето последние тёплые деньки перед осенним похолоданием за сентябрем следует октябрь который отличается особой красотой и обилием разных красок деревья становятся жёлтыми или бардовыми в ноябре листья на деревьях опадают идут проливные дожди дуют ураганные ветры но бывают и сухие тихие осенние деньки неповторимую красоту которых не раз описывали в своих произведениях величайшие художники писатели и поэты перелётные птицы стаями летят на юг откуда они вернутся только весной наконец начинаются первые заморозки а в декабре это грустное но прекрасное время постепенно сменяется бодрой великолепной зимой вся страна с нетерпением ждёт первого снега который для многих людей тесно связан со сказочным волшебством новогодних праздников', 'достижения последнего столетия в науке и технике так прочно вошли в жизнь каждого человека что мы давно уже воспринимаем их как естественные предметы окружающего мира люди ежедневно используют удивительные технологии появление которых совсем недавно казалось невозможным за пятьдесят с лишним лет своего существования интернет компьютеры мобильные телефоны стали такой важной частью реальности что неумение пользоваться ими однозначно затруднит жизнь в обществе при этом мы даже не раздумываем как работают окружающие нас повсюду механизмы и какие научные открытия повлияли на их изобретение например попробуйте кратко рассказать как устроен телевизор каким образом файлы из интернета загружаются по воздуху в ваш компьютер и почему в холодильнике холодно чётко объяснить смогут не все а ведь каждый из нас пользуется этими вещами постоянно оставшись без холодильника или смартфона большинство людей чувствовали бы себя как говорится не в своей тарелке а внезапное исчезновение интернета или электричества сделало бы нас совсем беспомощными точно в известной поговорке без наук как без рук действительно многие достижения науки имеют для людей жизненно важное значение если вы хотя бы раз в жизни болели ангиной или воспалением то ещё полвека назад это могло бы закончиться смертью а сейчас эти болезни просто вызывают сильное недомогание которое скоро проходит изредка вызывая осложнения и неприятные последствия для организма современные технологии также подарили возможность прожить активную и полноценную жизнь бесконечному числу людей с врождёнными заболеваниями сердца дыхательных путей опорнодвигательного аппарата и других органов очевидно что на остальные сферы общественной жизни научные открытия влияют так же сильно ведь учёные достигли очень высоких результатов во всех отраслях науки и всётаки следует заметить что подаренные наукой возможности не только делают жизнь человека легче и приятнее но и образуют серьёзную опасность при неумелом и безответственном использовании глобальную угрозу для человечества представляют например оружие массового поражения или аварии на крупных промышленных предприятиях в частности на атомных электростанциях не так глобальны но более широко распространены дорожнотранспортные происшествия авиакатастрофы и автомобильные аварии а самый распространённый вред который связан с прогрессом многие из нас испытывают на себе ежедневно кроме экологического загрязнения в крупных промышленных районах на здоровье каждого человека влияет употребление искусственных продуктов питания повышенная информационная нагрузка и понижение физической активности постоянное взаимодействие с электронными гаджетами некоторые люди могут просидеть за компьютером до часов в сутки это особенно пугает если касается детей ведь они очень легко попадают в зависимость от компьютерных игр тема негативного влияния прогресса на человечество просматривается во многих произведениях искусства активно разрабатывается в этических и философских трудах обсуждается правительствами разных стран на государственном и даже международном уровнях ответственность за состояние окружающей среды лежит и на каждом отдельном человеке ведь заботиться о природе и экологии разумно использовать существующие технологии следить за здоровьем и контролировать собственный образ жизни входит в обязанности всех граждан цивилизованного мира']\n"
     ]
    }
   ],
   "source": [
    "listtxt = [] #пустой список для текстов\n",
    "tokenized = []\n",
    "\n",
    "a2 = \"http://rus.lang-study.com/teksty/uchebnye-texty/biografiya/\" #сохраняем три ссылки\n",
    "b1 = \"http://rus.lang-study.com/teksty/uchebnye-texty/pogoda/\"\n",
    "b2 = \"http://rus.lang-study.com/teksty/uchebnye-texty/nauchnyj-progress/\"\n",
    "\n",
    "f = urllib.request.urlopen(a2) #открываем первую ссылку\n",
    "pretext = f.read().decode('UTF-8') #читаем текст в нужной для кириллицы кодировке\n",
    "soup = BeautifulSoup(pretext,'html.parser').get_text().lower().replace('\\n', ' ') #удаляем html-тэги, приводим к нижнему регистру и убираем абзацы\n",
    "family = re.findall(r'(федя и надя – .* мальчиком.)', soup) #извлекаем из всей страницы нужный текст, обращаясь к уникальным символам в его начале и конце\n",
    "fsent = re.sub('[^а-яё .!?]', '', family[0]) #сохраняем вариант с разбивкой на предложения\n",
    "family[0] = re.sub('[^а-яё ]', '', family[0]) #удаляем все небуквенные символы\n",
    "family[0] = re.sub('\\s+', ' ', family[0]) #удаляем повторяющиеся пробелы\n",
    "\n",
    "f = urllib.request.urlopen(b1) #второй текст\n",
    "pretext = f.read().decode('UTF-8')\n",
    "soup = BeautifulSoup(pretext,'html.parser').get_text().lower().replace('\\n', ' ')\n",
    "weather = re.findall(r'(погода – .* праздников.)', soup)\n",
    "wsent = re.sub('[^а-яё .!?]', '', weather[0])\n",
    "weather[0] = re.sub('[^а-яё ]', '', weather[0])\n",
    "weather[0] = re.sub('\\s+', ' ', weather[0])\n",
    "\n",
    "f = urllib.request.urlopen(b2) #третий текст\n",
    "pretext = f.read().decode('UTF-8')\n",
    "soup = BeautifulSoup(pretext,'html.parser').get_text().lower().replace('\\n', ' ')\n",
    "science = re.findall(r'(достижения п.*ого мира.)', soup)\n",
    "ssent = re.sub('[^а-яё .!?]', '', science[0])\n",
    "science[0] = re.sub('[^а-яё ]', '', science[0])\n",
    "science[0] = re.sub('\\s+', ' ', science[0])\n",
    "\n",
    "listtxt.append(family[0]) #в одном списке сохраняем строки\n",
    "listtxt.append(weather[0])\n",
    "listtxt.append(science[0]) \n",
    "print(listtxt) #список из трех строк, содержащих почищенный от небуквенного мусора текст"
   ]
  },
  {
   "cell_type": "code",
   "execution_count": 172,
   "metadata": {},
   "outputs": [],
   "source": [
    "import spacy"
   ]
  },
  {
   "cell_type": "code",
   "execution_count": 173,
   "metadata": {},
   "outputs": [],
   "source": [
    "#токенизируем\n",
    "lst_tokenized = []\n",
    "for strng in listtxt:\n",
    "    lst_tokenized.append(re.split(r'[ ]', strng)) #по пробелу разделяем все три строки с текстами на списки слов"
   ]
  },
  {
   "cell_type": "code",
   "execution_count": 174,
   "metadata": {},
   "outputs": [
    {
     "name": "stdout",
     "output_type": "stream",
     "text": [
      "[['федя', 'надя', 'брат', 'сестра', 'внешне', 'похожи', 'друг', 'друга', 'характеру', 'очень', 'разные', 'ребят', 'тёмные', 'глаза', 'прямые', 'русые', 'волосы', 'милая', 'улыбка', 'федя', 'носит', 'усы', 'высокий', 'надя', 'ниже', 'брат', 'длинные', 'волосы', 'много', 'веснушек', 'детстве', 'часто', 'путали', 'потому', 'надя', 'любила', 'надевать', 'одежду', 'феди', 'девочке', 'нравилось', 'носить', 'широкие', 'шорты', 'брюки', 'тёмные', 'джинсы', 'родители', 'покупали', 'розовые', 'платья', 'характеру', 'надя', 'весёлая', 'шумная', 'быстрая', 'любила', 'много', 'двигаться', 'играть', 'заниматься', 'спортом', 'увлечения', 'девочки', 'менялись', 'очень', 'часто', 'сначала', 'занималась', 'гимнастикой', 'потом', 'плаванием', 'позже', 'увлекалась', 'теннисом', 'затем', 'лёгкой', 'атлетикой', 'родители', 'всегда', 'говорили', 'нади', 'семь', 'пятниц', 'неделе', 'федя', 'спокойнее', 'любил', 'читать', 'думать', 'решать', 'задачи', 'увлекался', 'наукой', 'мальчик', 'хорошо', 'учился', 'школе', 'часто', 'помогал', 'наде', 'математикой', 'химией', 'физикой', 'зато', 'надя', 'любила', 'литературу', 'русский', 'язык', 'хорошо', 'знала', 'правила', 'объясняла', 'брату', 'после', 'окончания', 'школы', 'ребята', 'поступили', 'университет', 'выбрали', 'подходящие', 'профессии', 'федя', 'стал', 'учёным', 'занимается', 'проблемами', 'экономики', 'свободное', 'время', 'молодой', 'человек', 'играет', 'гитаре', 'иногда', 'ездит', 'друзьями', 'рыбалку', 'надя', 'журналист', 'очень', 'изменилась', 'стала', 'ответственной', 'внимательной', 'целеустремлённой', 'без', 'трудов', 'плодов', 'надя', 'очень', 'много', 'работает', 'общается', 'разными', 'людьми', 'иногда', 'приходится', 'посещать', 'четыре', 'модных', 'мероприятия', 'день', 'сразу', 'после', 'нужно', 'успеть', 'написать', 'статьи', 'следующий', 'день', 'опубликованы', 'журнале', 'федя', 'надя', 'очень', 'дружат', 'выходных', 'приходят', 'гости', 'родителям', 'вместе', 'пообедать', 'пообщаться', 'федя', 'пока', 'женат', 'живёт', 'надя', 'вышла', 'замуж', 'муж', 'кирилл', 'работает', 'программистом', 'создаёт', 'компьютерные', 'игры', 'скоро', 'кирилла', 'нади', 'родится', 'сын', 'малыша', 'назовут', 'фёдором', 'честь', 'дяди', 'надя', 'верит', 'маленький', 'федя', 'умным', 'красивым', 'весёлым', 'мальчиком'], ['погода', 'самых', 'популярных', 'разговора', 'погодой', 'связано', 'много', 'шуток', 'сравнений', 'ведь', 'беларуси', 'меняется', 'очень', 'резко', 'перепады', 'температуры', 'бывают', 'неожиданными', 'народе', 'появилась', 'поговорка', 'предусмотрительности', 'готовь', 'телегу', 'зимой', 'сани', 'летом', 'целом', 'климат', 'беларуси', 'очень', 'приятный', 'времена', 'года', 'сильно', 'отличаются', 'друг', 'друга', 'смена', 'сезонов', 'однако', 'всегда', 'соответствует', 'календарю', 'например', 'календарю', 'зима', 'начинается', 'декабре', 'конце', 'месяца', 'наступают', 'настоящие', 'морозы', 'идёт', 'снег', 'замерзает', 'вода', 'озёрах', 'покрываются', 'льдом', 'зима', 'продолжается', 'январь', 'февраль', 'всегда', 'бывает', 'холодной', 'иногда', 'наступают', 'оттепели', 'затем', 'снег', 'выпадает', 'снова', 'температура', 'держится', 'ниже', 'нуля', 'даже', 'марте', 'календарю', 'считается', 'первым', 'месяцем', 'весны', 'настоящая', 'весна', 'наступает', 'ближе', 'апрелю', 'распускаются', 'первые', 'цветы', 'начинает', 'зеленеть', 'трава', 'деревьях', 'появляются', 'почки', 'последний', 'месяц', 'весны', 'называется', 'май', 'самое', 'красивое', 'время', 'года', 'восхищает', 'яркой', 'свежей', 'зеленью', 'цветущими', 'деревьями', 'приятной', 'погодой', 'июне', 'календарю', 'начинается', 'лето', 'очень', 'жаркое', 'часто', 'дождливое', 'большое', 'количество', 'дождей', 'туманов', 'беларуси', 'влияет', 'атлантика', 'откуда', 'приходит', 'влажный', 'воздух', 'зато', 'июль', 'август', 'понастоящему', 'жаркие', 'месяцы', 'температура', 'воздуха', 'достигает', 'градусов', 'время', 'люди', 'выезжают', 'отдыхать', 'город', 'где', 'можно', 'позагорать', 'искупаться', 'реке', 'озере', 'подышать', 'свежим', 'воздухом', 'белорусы', 'очень', 'любят', 'природу', 'относятся', 'бережно', 'жара', 'длиться', 'сентября', 'наступает', 'бабье', 'лето', 'последние', 'тёплые', 'деньки', 'перед', 'осенним', 'похолоданием', 'сентябрем', 'следует', 'октябрь', 'отличается', 'особой', 'красотой', 'обилием', 'разных', 'красок', 'деревья', 'становятся', 'жёлтыми', 'бардовыми', 'ноябре', 'листья', 'деревьях', 'опадают', 'идут', 'проливные', 'дожди', 'дуют', 'ураганные', 'ветры', 'бывают', 'сухие', 'тихие', 'осенние', 'деньки', 'неповторимую', 'красоту', 'раз', 'описывали', 'произведениях', 'величайшие', 'художники', 'писатели', 'поэты', 'перелётные', 'птицы', 'стаями', 'летят', 'юг', 'откуда', 'вернутся', 'весной', 'наконец', 'начинаются', 'первые', 'заморозки', 'декабре', 'грустное', 'прекрасное', 'время', 'постепенно', 'сменяется', 'бодрой', 'великолепной', 'зимой', 'страна', 'нетерпением', 'ждёт', 'первого', 'снега', 'многих', 'людей', 'тесно', 'связан', 'со', 'сказочным', 'волшебством', 'новогодних', 'праздников'], ['достижения', 'последнего', 'столетия', 'науке', 'технике', 'прочно', 'вошли', 'жизнь', 'каждого', 'человека', 'давно', 'воспринимаем', 'естественные', 'предметы', 'окружающего', 'мира', 'люди', 'ежедневно', 'используют', 'удивительные', 'технологии', 'появление', 'совсем', 'недавно', 'казалось', 'невозможным', 'пятьдесят', 'лишним', 'лет', 'существования', 'интернет', 'компьютеры', 'мобильные', 'телефоны', 'стали', 'важной', 'частью', 'реальности', 'неумение', 'пользоваться', 'однозначно', 'затруднит', 'жизнь', 'обществе', 'даже', 'раздумываем', 'работают', 'окружающие', 'повсюду', 'механизмы', 'какие', 'научные', 'открытия', 'повлияли', 'изобретение', 'например', 'попробуйте', 'кратко', 'рассказать', 'устроен', 'телевизор', 'каким', 'образом', 'файлы', 'интернета', 'загружаются', 'воздуху', 'ваш', 'компьютер', 'почему', 'холодильнике', 'холодно', 'чётко', 'объяснить', 'смогут', 'ведь', 'каждый', 'пользуется', 'вещами', 'постоянно', 'оставшись', 'без', 'холодильника', 'смартфона', 'большинство', 'людей', 'чувствовали', 'говорится', 'тарелке', 'внезапное', 'исчезновение', 'интернета', 'электричества', 'сделало', 'совсем', 'беспомощными', 'точно', 'известной', 'поговорке', 'без', 'наук', 'без', 'рук', 'действительно', 'многие', 'достижения', 'науки', 'имеют', 'людей', 'жизненно', 'важное', 'значение', 'хотя', 'раз', 'жизни', 'болели', 'ангиной', 'воспалением', 'полвека', 'назад', 'закончиться', 'смертью', 'сейчас', 'болезни', 'просто', 'вызывают', 'сильное', 'недомогание', 'скоро', 'проходит', 'изредка', 'вызывая', 'осложнения', 'неприятные', 'последствия', 'организма', 'современные', 'технологии', 'также', 'подарили', 'возможность', 'прожить', 'активную', 'полноценную', 'жизнь', 'бесконечному', 'числу', 'людей', 'врождёнными', 'заболеваниями', 'сердца', 'дыхательных', 'путей', 'опорнодвигательного', 'аппарата', 'других', 'органов', 'очевидно', 'остальные', 'сферы', 'общественной', 'жизни', 'научные', 'открытия', 'влияют', 'сильно', 'ведь', 'учёные', 'достигли', 'очень', 'высоких', 'результатов', 'отраслях', 'науки', 'всётаки', 'следует', 'заметить', 'подаренные', 'наукой', 'возможности', 'делают', 'жизнь', 'человека', 'легче', 'приятнее', 'образуют', 'серьёзную', 'опасность', 'неумелом', 'безответственном', 'использовании', 'глобальную', 'угрозу', 'человечества', 'представляют', 'например', 'оружие', 'массового', 'поражения', 'аварии', 'крупных', 'промышленных', 'предприятиях', 'частности', 'атомных', 'электростанциях', 'глобальны', 'более', 'широко', 'распространены', 'дорожнотранспортные', 'происшествия', 'авиакатастрофы', 'автомобильные', 'аварии', 'самый', 'распространённый', 'вред', 'связан', 'прогрессом', 'многие', 'испытывают', 'ежедневно', 'кроме', 'экологического', 'загрязнения', 'крупных', 'промышленных', 'районах', 'здоровье', 'каждого', 'человека', 'влияет', 'употребление', 'искусственных', 'продуктов', 'питания', 'повышенная', 'информационная', 'нагрузка', 'понижение', 'физической', 'активности', 'постоянное', 'взаимодействие', 'электронными', 'гаджетами', 'некоторые', 'люди', 'просидеть', 'компьютером', 'часов', 'сутки', 'особенно', 'пугает', 'касается', 'детей', 'ведь', 'очень', 'легко', 'попадают', 'зависимость', 'компьютерных', 'игр', 'тема', 'негативного', 'влияния', 'прогресса', 'человечество', 'просматривается', 'многих', 'произведениях', 'искусства', 'активно', 'разрабатывается', 'этических', 'философских', 'трудах', 'обсуждается', 'правительствами', 'разных', 'стран', 'государственном', 'даже', 'международном', 'уровнях', 'ответственность', 'состояние', 'окружающей', 'среды', 'лежит', 'каждом', 'отдельном', 'человеке', 'ведь', 'заботиться', 'природе', 'экологии', 'разумно', 'использовать', 'существующие', 'технологии', 'следить', 'здоровьем', 'контролировать', 'собственный', 'образ', 'жизни', 'входит', 'обязанности', 'граждан', 'цивилизованного', 'мира']]\n"
     ]
    }
   ],
   "source": [
    "#удаляем стоп-слова\n",
    "nlp = spacy.load('ru_core_news_sm') #подгружаем модель для русского языка\n",
    "tokens = []\n",
    "for x in range(len(lst_tokenized)): #проходимся по каждому из трех списков внутри корпуса\n",
    "    str_tokenized = [word for word in lst_tokenized[x] if not word in nlp.Defaults.stop_words] #добавляем каждое слово в итоговый список, если они не входят в дефолтный список стоп-слов модели\n",
    "    tokens.append(str_tokenized)\n",
    "print(tokens) #список списков с токенизированными словами после удаления стоп-слов"
   ]
  },
  {
   "cell_type": "markdown",
   "metadata": {
    "id": "Bz9oetxLQeCC"
   },
   "source": [
    "**Задание 2.**"
   ]
  },
  {
   "cell_type": "markdown",
   "metadata": {
    "id": "kptVTU4EQeCE"
   },
   "source": [
    "1. Создайте таблицу в pandas (DataFrame). Пусть в нем будет пока только один столбец 'Text name' будут записаны названия текстов вашего датасета.\n",
    "2. Напишите простой цикл, обернув его в функцию, который считал бы длины каждого строкового элемента в вашем датасете. Итогом (return) этой функции должен быть новый список, равный длине датасета. Каждый элемент - это число слов в каждом из текстов. Например, [5000, 1947, 43300].\n",
    "3. Присоедините этот столбец к вашему фрейму.\n",
    "4. Посчитайте средние длины слов в вашем корпусе, запишите также в словарь и присоедините этот столбец к датафрейму.\n",
    "5. Посчитайте средние длины предложений в вашем корпусе, добавьте их в датафрейм."
   ]
  },
  {
   "cell_type": "code",
   "execution_count": 175,
   "metadata": {
    "id": "goz9QX95RadE"
   },
   "outputs": [],
   "source": [
    "import pandas as pd \n",
    "table = pd.DataFrame({ #создаем датасет с одним столбцом с названиями трех текстов\n",
    "    \"Name\": ['Family (A2)', 'Weather (B1)', 'Science (B2)']\n",
    "})"
   ]
  },
  {
   "cell_type": "code",
   "execution_count": 176,
   "metadata": {},
   "outputs": [],
   "source": [
    "#длины текстов\n",
    "def lengthscount(corpus): #функция, принимающая на вход список списков токенов\n",
    "    lengths = []\n",
    "    for text in corpus: #для каждого элемента списка, токенизированного текста, считаем его длину и сохраняем в переменную\n",
    "        lengths.append(len(text))\n",
    "    return lengths"
   ]
  },
  {
   "cell_type": "code",
   "execution_count": 177,
   "metadata": {},
   "outputs": [],
   "source": [
    "table[\"Words\"] = lengthscount(tokens) #добавляем столбец с длинами текстов, применив функцию на полученном ранее списке с токенизированными текстами, без стоп-слов"
   ]
  },
  {
   "cell_type": "code",
   "execution_count": 178,
   "metadata": {},
   "outputs": [],
   "source": [
    "#средние длины слов считать имеет смысл на не очищенном от стоп-слов варианте корпуса\n",
    "def avrglenwrd(corp):\n",
    "    a = 0\n",
    "    avrglengths = [] #список для результата\n",
    "    for a in range(len(corp)): #проходимся по трем текстам поочередно\n",
    "        charcounter = 0 #счетчик символов, обнуляющийся с каждым новым текстом\n",
    "        for word in corp[a].split(): #в каждом тексте складываем сумму символов, проходясь по словам\n",
    "            charcounter += len(word)\n",
    "        avrglengths.append(round(charcounter/len(text.split()), 2)) #получаем результат и округляем\n",
    "        a += 1\n",
    "    return avrglengths"
   ]
  },
  {
   "cell_type": "code",
   "execution_count": 179,
   "metadata": {},
   "outputs": [],
   "source": [
    "table[\"Length of word\"] = avrglenwrd(listtxt) #заведем столбец для данных о средней длине слова в символах в каждом тексте"
   ]
  },
  {
   "cell_type": "code",
   "execution_count": 180,
   "metadata": {},
   "outputs": [],
   "source": [
    "#средние длины предложений (в словах) по текстам, т. е. количество слов текста/количество предложений в тексте\n",
    "sents = [fsent, wsent, ssent] #соединяем полученные ранее строки текстов с разделителями предложений\n",
    "sentcount = [] #список для количества предложений в каждом тексте\n",
    "for text in sents:\n",
    "    sentcount.append(len(re.findall(r'([\\.?!])', text))) #считаем количество разделителей предложений в тексте\n",
    "wordcount = [] #список для количества слов включая стоп-слова\n",
    "for x in range(len(listtxt)):\n",
    "    wordcount.append(len(listtxt[x].split())) #считаем количество слов, деля строку по пробелам\n",
    "count = [] #список для результата\n",
    "for i in range(len(wordcount)):\n",
    "    count.append(round(wordcount[i] / sentcount[i], 2)) #получаем с помощью деления значение для каждого текста, округляем до сотых\n",
    "table[\"Length of sentence\"] = count #добавляем к датасету столбец с данными"
   ]
  },
  {
   "cell_type": "code",
   "execution_count": 181,
   "metadata": {},
   "outputs": [
    {
     "name": "stdout",
     "output_type": "stream",
     "text": [
      "           Name  Words  Length of word  Length of sentence\n",
      "0   Family (A2)    218            3.57               11.54\n",
      "1  Weather (B1)    250            4.49               14.96\n",
      "2  Science (B2)    313            6.56               21.05\n"
     ]
    }
   ],
   "source": [
    "print(table)"
   ]
  },
  {
   "cell_type": "markdown",
   "metadata": {
    "id": "rCqKcLvJQeCG"
   },
   "source": [
    "**Задание 3.**\n",
    "1. Добавьте еще один столбец с морфологической информацией, например, о количестве существительных в текстах; среднем употреблении глаголов на предложение или что-то иное; таких столбцов должно добавиться два.\n",
    "2. Повторите предыдущее, только с синтаксической информацией (например, количество деепричастных оборотов на предложение)."
   ]
  },
  {
   "cell_type": "code",
   "execution_count": 182,
   "metadata": {
    "id": "jr9-JR4eRcD8"
   },
   "outputs": [],
   "source": [
    "#доля существительных в тексте, т. е. количество существительных/wordcount\n",
    "sum = 0\n",
    "nouns = []\n",
    "nounrate = []\n",
    "for text in listtxt:\n",
    "    for token in nlp(text):\n",
    "        if token.pos_ == 'NOUN':\n",
    "            sum += 1\n",
    "    nouns.append(sum)\n",
    "for i in range(len(nouns)):\n",
    "    nounrate.append(round(nouns[i] / wordcount[i], 2))\n",
    "table[\"Noun %\"] = nounrate"
   ]
  },
  {
   "cell_type": "code",
   "execution_count": 183,
   "metadata": {},
   "outputs": [],
   "source": [
    "#количество прилагательных\n",
    "sum = 0\n",
    "adj = []\n",
    "for text in listtxt:\n",
    "    for token in nlp(text):\n",
    "        if token.pos_ == 'ADJ':\n",
    "            sum += 1\n",
    "    adj.append(sum)\n",
    "table[\"Adjectives\"] = adj"
   ]
  },
  {
   "cell_type": "code",
   "execution_count": 184,
   "metadata": {},
   "outputs": [],
   "source": [
    "#количество именных подлежащих\n",
    "sum = 0\n",
    "nsubj = []\n",
    "for text in listtxt:\n",
    "    for token in nlp(text):\n",
    "        if token.dep_ == 'nsubj':\n",
    "            sum += 1\n",
    "    nsubj.append(sum)\n",
    "table[\"Nominal subjects\"] = nsubj"
   ]
  },
  {
   "cell_type": "code",
   "execution_count": 185,
   "metadata": {},
   "outputs": [
    {
     "name": "stdout",
     "output_type": "stream",
     "text": [
      "[3, 4, 5]\n"
     ]
    }
   ],
   "source": [
    "#количество сентенциальных подлежащих (вершина группы - инфинитив)\n",
    "sum = 0\n",
    "csubj = []\n",
    "for text in listtxt:\n",
    "    for token in nlp(text):\n",
    "        if token.dep_ == 'csubj':\n",
    "            sum += 1\n",
    "    csubj.append(sum)\n",
    "print(csubj)\n",
    "table[\"Clausal subjects\"] = csubj"
   ]
  },
  {
   "cell_type": "code",
   "execution_count": 186,
   "metadata": {},
   "outputs": [],
   "source": [
    "table[\"Level\"] = [1, 2, 3]"
   ]
  },
  {
   "cell_type": "code",
   "execution_count": 187,
   "metadata": {
    "scrolled": true
   },
   "outputs": [
    {
     "name": "stdout",
     "output_type": "stream",
     "text": [
      "           Name  Words  Length of word  Length of sentence  Noun %  \\\n",
      "0   Family (A2)    218            3.57               11.54    0.30   \n",
      "1  Weather (B1)    250            4.49               14.96    0.62   \n",
      "2  Science (B2)    313            6.56               21.05    0.79   \n",
      "\n",
      "   Adjectives  Nominal subjects  Clausal subjects  Level  \n",
      "0          34                30                 3      1  \n",
      "1          76                66                 4      2  \n",
      "2         139                95                 5      3  \n"
     ]
    }
   ],
   "source": [
    "print(table)"
   ]
  },
  {
   "cell_type": "markdown",
   "metadata": {
    "id": "2l6bO-D6QeCH"
   },
   "source": [
    "**Задание 4.**\n",
    "1. Визуализируйте распределения ваших данных с помощью двух любых графиков.\n",
    "2. Скореллируйте любые два параметра. Кореллирует ли, например, средняя длина предложения со средней длиной слов? 3. Также если у вас есть параметр вроде уровня текста (например, ваш корпус представляет собой тексты для изучающих язык как иностранный, адаптированные по разным уровня), то скореллируйте извлеченные параметры с уровнем. Показывают ли они это изменение?"
   ]
  },
  {
   "cell_type": "code",
   "execution_count": 188,
   "metadata": {},
   "outputs": [
    {
     "data": {
      "image/png": "[encoded data removed]",
      "text/plain": [
       "<Figure size 432x288 with 1 Axes>"
      ]
     },
     "metadata": {
      "needs_background": "light"
     },
     "output_type": "display_data"
    }
   ],
   "source": [
    "#визуализируем распределение числа прилагательных и именных подлежащих в текстах - это два параметра в абсолютных значениях, которые относительно уровня текста ясно распределены\n",
    "\n",
    "import matplotlib.pyplot as plt\n",
    "\n",
    "x1 = table[\"Name\"]\n",
    "y1 = table[\"Adjectives\"]\n",
    "plt.plot(x1, y1, label = \"Adjectives\")\n",
    " \n",
    "x2 = table[\"Name\"]\n",
    "y2 = table[\"Nominal subjects\"]\n",
    "plt.plot(x2, y2, label = \"NSubj\")\n",
    "\n",
    "plt.xlabel('Texts by level from A2 to B2')\n",
    "plt.ylabel('Absolute values')\n",
    "plt.title('Absolute number of adjectives and nominal subjects in texts of different CERF levels')\n",
    "plt.legend()\n",
    "plt.show()"
   ]
  },
  {
   "cell_type": "code",
   "execution_count": 189,
   "metadata": {},
   "outputs": [
    {
     "data": {
      "image/png": "[encoded data removed]",
      "text/plain": [
       "<Figure size 432x288 with 1 Axes>"
      ]
     },
     "metadata": {
      "needs_background": "light"
     },
     "output_type": "display_data"
    }
   ],
   "source": [
    "#покажем распределение единственного параметра в долях, доли существительных среди других частей речи\n",
    "\n",
    "x = table[\"Name\"]\n",
    "y = table[\"Noun %\"]\n",
    "plt.plot(x, y, label = \"Nouns, per cent\", color = 'darkblue')\n",
    "\n",
    "plt.xlabel('Texts by level from A2 to B2')\n",
    "plt.ylabel('Noun rate')\n",
    "plt.title('Noun rate in texts of different CERF levels')\n",
    "plt.legend()\n",
    "plt.show()"
   ]
  },
  {
   "cell_type": "code",
   "execution_count": 191,
   "metadata": {},
   "outputs": [
    {
     "data": {
      "image/png": "[encoded data removed]",
      "text/plain": [
       "<Figure size 432x288 with 1 Axes>"
      ]
     },
     "metadata": {
      "needs_background": "light"
     },
     "output_type": "display_data"
    }
   ],
   "source": [
    "#то же в виде столбчатой диаграммы\n",
    "plt.figure().add_axes([0, 0, 0.75, 1]).bar(table[\"Name\"], table[\"Noun %\"], 0.6)\n",
    "plt.xlabel('Texts by level from A2 to B2')\n",
    "plt.ylabel('Noun rate')\n",
    "plt.title('Noun rate in texts of different CERF levels')\n",
    "plt.show()"
   ]
  },
  {
   "cell_type": "code",
   "execution_count": 192,
   "metadata": {},
   "outputs": [
    {
     "data": {
      "text/html": [
       "<div>\n",
       "<style scoped>\n",
       "    .dataframe tbody tr th:only-of-type {\n",
       "        vertical-align: middle;\n",
       "    }\n",
       "\n",
       "    .dataframe tbody tr th {\n",
       "        vertical-align: top;\n",
       "    }\n",
       "\n",
       "    .dataframe thead th {\n",
       "        text-align: right;\n",
       "    }\n",
       "</style>\n",
       "<table border=\"1\" class=\"dataframe\">\n",
       "  <thead>\n",
       "    <tr style=\"text-align: right;\">\n",
       "      <th></th>\n",
       "      <th>Words</th>\n",
       "      <th>Length of word</th>\n",
       "      <th>Length of sentence</th>\n",
       "      <th>Noun %</th>\n",
       "      <th>Adjectives</th>\n",
       "      <th>Nominal subjects</th>\n",
       "      <th>Clausal subjects</th>\n",
       "      <th>Level</th>\n",
       "    </tr>\n",
       "  </thead>\n",
       "  <tbody>\n",
       "    <tr>\n",
       "      <th>Words</th>\n",
       "      <td>1.000000</td>\n",
       "      <td>0.999479</td>\n",
       "      <td>0.999674</td>\n",
       "      <td>0.935491</td>\n",
       "      <td>0.997462</td>\n",
       "      <td>0.969329</td>\n",
       "      <td>0.982712</td>\n",
       "      <td>0.982712</td>\n",
       "    </tr>\n",
       "    <tr>\n",
       "      <th>Length of word</th>\n",
       "      <td>0.999479</td>\n",
       "      <td>1.000000</td>\n",
       "      <td>0.998329</td>\n",
       "      <td>0.923594</td>\n",
       "      <td>0.994643</td>\n",
       "      <td>0.960887</td>\n",
       "      <td>0.976221</td>\n",
       "      <td>0.976221</td>\n",
       "    </tr>\n",
       "    <tr>\n",
       "      <th>Length of sentence</th>\n",
       "      <td>0.999674</td>\n",
       "      <td>0.998329</td>\n",
       "      <td>1.000000</td>\n",
       "      <td>0.944203</td>\n",
       "      <td>0.998954</td>\n",
       "      <td>0.975284</td>\n",
       "      <td>0.987116</td>\n",
       "      <td>0.987116</td>\n",
       "    </tr>\n",
       "    <tr>\n",
       "      <th>Noun %</th>\n",
       "      <td>0.935491</td>\n",
       "      <td>0.923594</td>\n",
       "      <td>0.944203</td>\n",
       "      <td>1.000000</td>\n",
       "      <td>0.958274</td>\n",
       "      <td>0.993641</td>\n",
       "      <td>0.984738</td>\n",
       "      <td>0.984738</td>\n",
       "    </tr>\n",
       "    <tr>\n",
       "      <th>Adjectives</th>\n",
       "      <td>0.997462</td>\n",
       "      <td>0.994643</td>\n",
       "      <td>0.998954</td>\n",
       "      <td>0.958274</td>\n",
       "      <td>1.000000</td>\n",
       "      <td>0.984366</td>\n",
       "      <td>0.993399</td>\n",
       "      <td>0.993399</td>\n",
       "    </tr>\n",
       "    <tr>\n",
       "      <th>Nominal subjects</th>\n",
       "      <td>0.969329</td>\n",
       "      <td>0.960887</td>\n",
       "      <td>0.975284</td>\n",
       "      <td>0.993641</td>\n",
       "      <td>0.984366</td>\n",
       "      <td>1.000000</td>\n",
       "      <td>0.998073</td>\n",
       "      <td>0.998073</td>\n",
       "    </tr>\n",
       "    <tr>\n",
       "      <th>Clausal subjects</th>\n",
       "      <td>0.982712</td>\n",
       "      <td>0.976221</td>\n",
       "      <td>0.987116</td>\n",
       "      <td>0.984738</td>\n",
       "      <td>0.993399</td>\n",
       "      <td>0.998073</td>\n",
       "      <td>1.000000</td>\n",
       "      <td>1.000000</td>\n",
       "    </tr>\n",
       "    <tr>\n",
       "      <th>Level</th>\n",
       "      <td>0.982712</td>\n",
       "      <td>0.976221</td>\n",
       "      <td>0.987116</td>\n",
       "      <td>0.984738</td>\n",
       "      <td>0.993399</td>\n",
       "      <td>0.998073</td>\n",
       "      <td>1.000000</td>\n",
       "      <td>1.000000</td>\n",
       "    </tr>\n",
       "  </tbody>\n",
       "</table>\n",
       "</div>"
      ],
      "text/plain": [
       "                       Words  Length of word  Length of sentence    Noun %  \\\n",
       "Words               1.000000        0.999479            0.999674  0.935491   \n",
       "Length of word      0.999479        1.000000            0.998329  0.923594   \n",
       "Length of sentence  0.999674        0.998329            1.000000  0.944203   \n",
       "Noun %              0.935491        0.923594            0.944203  1.000000   \n",
       "Adjectives          0.997462        0.994643            0.998954  0.958274   \n",
       "Nominal subjects    0.969329        0.960887            0.975284  0.993641   \n",
       "Clausal subjects    0.982712        0.976221            0.987116  0.984738   \n",
       "Level               0.982712        0.976221            0.987116  0.984738   \n",
       "\n",
       "                    Adjectives  Nominal subjects  Clausal subjects     Level  \n",
       "Words                 0.997462          0.969329          0.982712  0.982712  \n",
       "Length of word        0.994643          0.960887          0.976221  0.976221  \n",
       "Length of sentence    0.998954          0.975284          0.987116  0.987116  \n",
       "Noun %                0.958274          0.993641          0.984738  0.984738  \n",
       "Adjectives            1.000000          0.984366          0.993399  0.993399  \n",
       "Nominal subjects      0.984366          1.000000          0.998073  0.998073  \n",
       "Clausal subjects      0.993399          0.998073          1.000000  1.000000  \n",
       "Level                 0.993399          0.998073          1.000000  1.000000  "
      ]
     },
     "execution_count": 192,
     "metadata": {},
     "output_type": "execute_result"
    }
   ],
   "source": [
    "correlation_df = table.corr()\n",
    "correlation_df"
   ]
  },
  {
   "cell_type": "code",
   "execution_count": 193,
   "metadata": {},
   "outputs": [
    {
     "data": {
      "text/plain": [
       "<AxesSubplot:>"
      ]
     },
     "execution_count": 193,
     "metadata": {},
     "output_type": "execute_result"
    },
    {
     "data": {
      "image/png": "[encoded data removed]",
      "text/plain": [
       "<Figure size 432x288 with 2 Axes>"
      ]
     },
     "metadata": {
      "needs_background": "light"
     },
     "output_type": "display_data"
    }
   ],
   "source": [
    "sns.heatmap(correlation_df, annot=True)"
   ]
  },
  {
   "cell_type": "markdown",
   "metadata": {},
   "source": [
    "Каждый параметр сильно коррелирует с каждым другим. Скорее всего, так быть не должно и связано это с недостаточным разнообразием данных, небольшой длиной текстов, малыми значениями параметров. Не стоит доверять корреляции, например, именных и сентенциальных подлежащих, частей одного класса.\n",
    "Что похоже на правду: чем выше уровень учебного текста, тем этот текст длиннее; чем выше уровень учебного текста, тем больше в нем сентенциальных подлежащных оборотов (неочевидной, сложной синтаксической конструкции); чем выше уровень текста, тем выше в нем доля существительных (т. е. тем короче выражаются предикации); чем выше уровень текста, тем выше средние длины слова и предложений."
   ]
  },
  {
   "cell_type": "code",
   "execution_count": 194,
   "metadata": {},
   "outputs": [
    {
     "data": {
      "text/html": [
       "<div>\n",
       "<style scoped>\n",
       "    .dataframe tbody tr th:only-of-type {\n",
       "        vertical-align: middle;\n",
       "    }\n",
       "\n",
       "    .dataframe tbody tr th {\n",
       "        vertical-align: top;\n",
       "    }\n",
       "\n",
       "    .dataframe thead th {\n",
       "        text-align: right;\n",
       "    }\n",
       "</style>\n",
       "<table border=\"1\" class=\"dataframe\">\n",
       "  <thead>\n",
       "    <tr style=\"text-align: right;\">\n",
       "      <th></th>\n",
       "      <th>Words</th>\n",
       "      <th>Length of word</th>\n",
       "      <th>Length of sentence</th>\n",
       "      <th>Noun %</th>\n",
       "      <th>Adjectives</th>\n",
       "      <th>Nominal subjects</th>\n",
       "      <th>Clausal subjects</th>\n",
       "      <th>Level</th>\n",
       "    </tr>\n",
       "  </thead>\n",
       "  <tbody>\n",
       "    <tr>\n",
       "      <th>Words</th>\n",
       "      <td>1.0</td>\n",
       "      <td>1.0</td>\n",
       "      <td>1.0</td>\n",
       "      <td>1.0</td>\n",
       "      <td>1.0</td>\n",
       "      <td>1.0</td>\n",
       "      <td>1.0</td>\n",
       "      <td>1.0</td>\n",
       "    </tr>\n",
       "    <tr>\n",
       "      <th>Length of word</th>\n",
       "      <td>1.0</td>\n",
       "      <td>1.0</td>\n",
       "      <td>1.0</td>\n",
       "      <td>1.0</td>\n",
       "      <td>1.0</td>\n",
       "      <td>1.0</td>\n",
       "      <td>1.0</td>\n",
       "      <td>1.0</td>\n",
       "    </tr>\n",
       "    <tr>\n",
       "      <th>Length of sentence</th>\n",
       "      <td>1.0</td>\n",
       "      <td>1.0</td>\n",
       "      <td>1.0</td>\n",
       "      <td>1.0</td>\n",
       "      <td>1.0</td>\n",
       "      <td>1.0</td>\n",
       "      <td>1.0</td>\n",
       "      <td>1.0</td>\n",
       "    </tr>\n",
       "    <tr>\n",
       "      <th>Noun %</th>\n",
       "      <td>1.0</td>\n",
       "      <td>1.0</td>\n",
       "      <td>1.0</td>\n",
       "      <td>1.0</td>\n",
       "      <td>1.0</td>\n",
       "      <td>1.0</td>\n",
       "      <td>1.0</td>\n",
       "      <td>1.0</td>\n",
       "    </tr>\n",
       "    <tr>\n",
       "      <th>Adjectives</th>\n",
       "      <td>1.0</td>\n",
       "      <td>1.0</td>\n",
       "      <td>1.0</td>\n",
       "      <td>1.0</td>\n",
       "      <td>1.0</td>\n",
       "      <td>1.0</td>\n",
       "      <td>1.0</td>\n",
       "      <td>1.0</td>\n",
       "    </tr>\n",
       "    <tr>\n",
       "      <th>Nominal subjects</th>\n",
       "      <td>1.0</td>\n",
       "      <td>1.0</td>\n",
       "      <td>1.0</td>\n",
       "      <td>1.0</td>\n",
       "      <td>1.0</td>\n",
       "      <td>1.0</td>\n",
       "      <td>1.0</td>\n",
       "      <td>1.0</td>\n",
       "    </tr>\n",
       "    <tr>\n",
       "      <th>Clausal subjects</th>\n",
       "      <td>1.0</td>\n",
       "      <td>1.0</td>\n",
       "      <td>1.0</td>\n",
       "      <td>1.0</td>\n",
       "      <td>1.0</td>\n",
       "      <td>1.0</td>\n",
       "      <td>1.0</td>\n",
       "      <td>1.0</td>\n",
       "    </tr>\n",
       "    <tr>\n",
       "      <th>Level</th>\n",
       "      <td>1.0</td>\n",
       "      <td>1.0</td>\n",
       "      <td>1.0</td>\n",
       "      <td>1.0</td>\n",
       "      <td>1.0</td>\n",
       "      <td>1.0</td>\n",
       "      <td>1.0</td>\n",
       "      <td>1.0</td>\n",
       "    </tr>\n",
       "  </tbody>\n",
       "</table>\n",
       "</div>"
      ],
      "text/plain": [
       "                    Words  Length of word  Length of sentence  Noun %  \\\n",
       "Words                 1.0             1.0                 1.0     1.0   \n",
       "Length of word        1.0             1.0                 1.0     1.0   \n",
       "Length of sentence    1.0             1.0                 1.0     1.0   \n",
       "Noun %                1.0             1.0                 1.0     1.0   \n",
       "Adjectives            1.0             1.0                 1.0     1.0   \n",
       "Nominal subjects      1.0             1.0                 1.0     1.0   \n",
       "Clausal subjects      1.0             1.0                 1.0     1.0   \n",
       "Level                 1.0             1.0                 1.0     1.0   \n",
       "\n",
       "                    Adjectives  Nominal subjects  Clausal subjects  Level  \n",
       "Words                      1.0               1.0               1.0    1.0  \n",
       "Length of word             1.0               1.0               1.0    1.0  \n",
       "Length of sentence         1.0               1.0               1.0    1.0  \n",
       "Noun %                     1.0               1.0               1.0    1.0  \n",
       "Adjectives                 1.0               1.0               1.0    1.0  \n",
       "Nominal subjects           1.0               1.0               1.0    1.0  \n",
       "Clausal subjects           1.0               1.0               1.0    1.0  \n",
       "Level                      1.0               1.0               1.0    1.0  "
      ]
     },
     "execution_count": 194,
     "metadata": {},
     "output_type": "execute_result"
    }
   ],
   "source": [
    "correlation_df2 = table.corr(method='spearman')\n",
    "correlation_df2"
   ]
  },
  {
   "cell_type": "markdown",
   "metadata": {},
   "source": [
    "Изменение метода корреляции на метод Спирмена не позволяет сделать каких-либо выводов, но только больше подтверждает недостаточность нашего корпуса."
   ]
  }
 ],
 "metadata": {
  "colab": {
   "name": "HA2_Comp_ling",
   "provenance": []
  },
  "kernelspec": {
   "display_name": "Python 3",
   "language": "python",
   "name": "python3"
  },
  "language_info": {
   "codemirror_mode": {
    "name": "ipython",
    "version": 3
   },
   "file_extension": ".py",
   "mimetype": "text/x-python",
   "name": "python",
   "nbconvert_exporter": "python",
   "pygments_lexer": "ipython3",
   "version": "3.8.8"
  },
  "toc": {
   "base_numbering": 1,
   "nav_menu": {},
   "number_sections": true,
   "sideBar": true,
   "skip_h1_title": false,
   "title_cell": "Table of Contents",
   "title_sidebar": "Contents",
   "toc_cell": true,
   "toc_position": {},
   "toc_section_display": true,
   "toc_window_display": false
  }
 },
 "nbformat": 4,
 "nbformat_minor": 1
}
